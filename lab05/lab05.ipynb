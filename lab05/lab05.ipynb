{
 "cells": [
  {
   "cell_type": "code",
   "execution_count": 232,
   "metadata": {
    "id": "x6XOUhvFa-wT"
   },
   "outputs": [],
   "source": [
    "import numpy as np\n",
    "import pandas as pd\n",
    "import sklearn.preprocessing, sklearn.cluster, sklearn.metrics\n",
    "import scipy.spatial\n",
    "import matplotlib.pyplot as plt\n",
    "import seaborn as sns"
   ]
  },
  {
   "cell_type": "markdown",
   "metadata": {},
   "source": [
    "# Data description\n",
    "\n",
    "Data source: https://www.kaggle.com/datasets/subhajitnayak/country-data?resource=download&select=Country-data.csv\n",
    "\n",
    "|Attribute|Description|\n",
    "|:-------|:-------|\n",
    "|country | Name of the country |\n",
    "|child_mort | Death of children under 5 years of age per 1000 live births |\n",
    "|exports | Exports of goods and services. Given as %age of the Total GDP |\n",
    "|health | Total health spending as %age of Total GDP |\n",
    "|imports | Imports of goods and services. Given as %age of the Total GDP |\n",
    "|Income | Net income per person |\n",
    "|Inflation | The measurement of the annual growth rate of the Total GDP |\n",
    "|life_expec | The average number of years a new born child would live if the current mortality patterns are to rem... |\n",
    "|total_fer | The number of children that would be born to each woman if the current age-fertility rates remain th... |\n",
    "|gdpp | The GDP per capita. Calculated as the Total GDP divided by the total population. |"
   ]
  },
  {
   "cell_type": "markdown",
   "metadata": {},
   "source": [
    "# Data loading"
   ]
  },
  {
   "cell_type": "code",
   "execution_count": 233,
   "metadata": {},
   "outputs": [
    {
     "data": {
      "text/html": [
       "<div>\n",
       "<style scoped>\n",
       "    .dataframe tbody tr th:only-of-type {\n",
       "        vertical-align: middle;\n",
       "    }\n",
       "\n",
       "    .dataframe tbody tr th {\n",
       "        vertical-align: top;\n",
       "    }\n",
       "\n",
       "    .dataframe thead th {\n",
       "        text-align: right;\n",
       "    }\n",
       "</style>\n",
       "<table border=\"1\" class=\"dataframe\">\n",
       "  <thead>\n",
       "    <tr style=\"text-align: right;\">\n",
       "      <th></th>\n",
       "      <th>country</th>\n",
       "      <th>child_mort</th>\n",
       "      <th>exports</th>\n",
       "      <th>health</th>\n",
       "      <th>imports</th>\n",
       "      <th>income</th>\n",
       "      <th>inflation</th>\n",
       "      <th>life_expec</th>\n",
       "      <th>total_fer</th>\n",
       "      <th>gdpp</th>\n",
       "    </tr>\n",
       "  </thead>\n",
       "  <tbody>\n",
       "    <tr>\n",
       "      <th>0</th>\n",
       "      <td>Afghanistan</td>\n",
       "      <td>90.2</td>\n",
       "      <td>10.0</td>\n",
       "      <td>7.58</td>\n",
       "      <td>44.9</td>\n",
       "      <td>1610</td>\n",
       "      <td>9.44</td>\n",
       "      <td>56.2</td>\n",
       "      <td>5.82</td>\n",
       "      <td>553</td>\n",
       "    </tr>\n",
       "    <tr>\n",
       "      <th>1</th>\n",
       "      <td>Albania</td>\n",
       "      <td>16.6</td>\n",
       "      <td>28.0</td>\n",
       "      <td>6.55</td>\n",
       "      <td>48.6</td>\n",
       "      <td>9930</td>\n",
       "      <td>4.49</td>\n",
       "      <td>76.3</td>\n",
       "      <td>1.65</td>\n",
       "      <td>4090</td>\n",
       "    </tr>\n",
       "    <tr>\n",
       "      <th>2</th>\n",
       "      <td>Algeria</td>\n",
       "      <td>27.3</td>\n",
       "      <td>38.4</td>\n",
       "      <td>4.17</td>\n",
       "      <td>31.4</td>\n",
       "      <td>12900</td>\n",
       "      <td>16.10</td>\n",
       "      <td>76.5</td>\n",
       "      <td>2.89</td>\n",
       "      <td>4460</td>\n",
       "    </tr>\n",
       "    <tr>\n",
       "      <th>3</th>\n",
       "      <td>Angola</td>\n",
       "      <td>119.0</td>\n",
       "      <td>62.3</td>\n",
       "      <td>2.85</td>\n",
       "      <td>42.9</td>\n",
       "      <td>5900</td>\n",
       "      <td>22.40</td>\n",
       "      <td>60.1</td>\n",
       "      <td>6.16</td>\n",
       "      <td>3530</td>\n",
       "    </tr>\n",
       "    <tr>\n",
       "      <th>4</th>\n",
       "      <td>Antigua and Barbuda</td>\n",
       "      <td>10.3</td>\n",
       "      <td>45.5</td>\n",
       "      <td>6.03</td>\n",
       "      <td>58.9</td>\n",
       "      <td>19100</td>\n",
       "      <td>1.44</td>\n",
       "      <td>76.8</td>\n",
       "      <td>2.13</td>\n",
       "      <td>12200</td>\n",
       "    </tr>\n",
       "    <tr>\n",
       "      <th>...</th>\n",
       "      <td>...</td>\n",
       "      <td>...</td>\n",
       "      <td>...</td>\n",
       "      <td>...</td>\n",
       "      <td>...</td>\n",
       "      <td>...</td>\n",
       "      <td>...</td>\n",
       "      <td>...</td>\n",
       "      <td>...</td>\n",
       "      <td>...</td>\n",
       "    </tr>\n",
       "    <tr>\n",
       "      <th>162</th>\n",
       "      <td>Vanuatu</td>\n",
       "      <td>29.2</td>\n",
       "      <td>46.6</td>\n",
       "      <td>5.25</td>\n",
       "      <td>52.7</td>\n",
       "      <td>2950</td>\n",
       "      <td>2.62</td>\n",
       "      <td>63.0</td>\n",
       "      <td>3.50</td>\n",
       "      <td>2970</td>\n",
       "    </tr>\n",
       "    <tr>\n",
       "      <th>163</th>\n",
       "      <td>Venezuela</td>\n",
       "      <td>17.1</td>\n",
       "      <td>28.5</td>\n",
       "      <td>4.91</td>\n",
       "      <td>17.6</td>\n",
       "      <td>16500</td>\n",
       "      <td>45.90</td>\n",
       "      <td>75.4</td>\n",
       "      <td>2.47</td>\n",
       "      <td>13500</td>\n",
       "    </tr>\n",
       "    <tr>\n",
       "      <th>164</th>\n",
       "      <td>Vietnam</td>\n",
       "      <td>23.3</td>\n",
       "      <td>72.0</td>\n",
       "      <td>6.84</td>\n",
       "      <td>80.2</td>\n",
       "      <td>4490</td>\n",
       "      <td>12.10</td>\n",
       "      <td>73.1</td>\n",
       "      <td>1.95</td>\n",
       "      <td>1310</td>\n",
       "    </tr>\n",
       "    <tr>\n",
       "      <th>165</th>\n",
       "      <td>Yemen</td>\n",
       "      <td>56.3</td>\n",
       "      <td>30.0</td>\n",
       "      <td>5.18</td>\n",
       "      <td>34.4</td>\n",
       "      <td>4480</td>\n",
       "      <td>23.60</td>\n",
       "      <td>67.5</td>\n",
       "      <td>4.67</td>\n",
       "      <td>1310</td>\n",
       "    </tr>\n",
       "    <tr>\n",
       "      <th>166</th>\n",
       "      <td>Zambia</td>\n",
       "      <td>83.1</td>\n",
       "      <td>37.0</td>\n",
       "      <td>5.89</td>\n",
       "      <td>30.9</td>\n",
       "      <td>3280</td>\n",
       "      <td>14.00</td>\n",
       "      <td>52.0</td>\n",
       "      <td>5.40</td>\n",
       "      <td>1460</td>\n",
       "    </tr>\n",
       "  </tbody>\n",
       "</table>\n",
       "<p>167 rows × 10 columns</p>\n",
       "</div>"
      ],
      "text/plain": [
       "                 country  child_mort  exports  health  imports  income  \\\n",
       "0            Afghanistan        90.2     10.0    7.58     44.9    1610   \n",
       "1                Albania        16.6     28.0    6.55     48.6    9930   \n",
       "2                Algeria        27.3     38.4    4.17     31.4   12900   \n",
       "3                 Angola       119.0     62.3    2.85     42.9    5900   \n",
       "4    Antigua and Barbuda        10.3     45.5    6.03     58.9   19100   \n",
       "..                   ...         ...      ...     ...      ...     ...   \n",
       "162              Vanuatu        29.2     46.6    5.25     52.7    2950   \n",
       "163            Venezuela        17.1     28.5    4.91     17.6   16500   \n",
       "164              Vietnam        23.3     72.0    6.84     80.2    4490   \n",
       "165                Yemen        56.3     30.0    5.18     34.4    4480   \n",
       "166               Zambia        83.1     37.0    5.89     30.9    3280   \n",
       "\n",
       "     inflation  life_expec  total_fer   gdpp  \n",
       "0         9.44        56.2       5.82    553  \n",
       "1         4.49        76.3       1.65   4090  \n",
       "2        16.10        76.5       2.89   4460  \n",
       "3        22.40        60.1       6.16   3530  \n",
       "4         1.44        76.8       2.13  12200  \n",
       "..         ...         ...        ...    ...  \n",
       "162       2.62        63.0       3.50   2970  \n",
       "163      45.90        75.4       2.47  13500  \n",
       "164      12.10        73.1       1.95   1310  \n",
       "165      23.60        67.5       4.67   1310  \n",
       "166      14.00        52.0       5.40   1460  \n",
       "\n",
       "[167 rows x 10 columns]"
      ]
     },
     "execution_count": 233,
     "metadata": {},
     "output_type": "execute_result"
    }
   ],
   "source": [
    "df = pd.read_csv('./country-data.csv')\n",
    "df"
   ]
  },
  {
   "cell_type": "code",
   "execution_count": 234,
   "metadata": {},
   "outputs": [
    {
     "data": {
      "text/html": [
       "<div>\n",
       "<style scoped>\n",
       "    .dataframe tbody tr th:only-of-type {\n",
       "        vertical-align: middle;\n",
       "    }\n",
       "\n",
       "    .dataframe tbody tr th {\n",
       "        vertical-align: top;\n",
       "    }\n",
       "\n",
       "    .dataframe thead th {\n",
       "        text-align: right;\n",
       "    }\n",
       "</style>\n",
       "<table border=\"1\" class=\"dataframe\">\n",
       "  <thead>\n",
       "    <tr style=\"text-align: right;\">\n",
       "      <th></th>\n",
       "      <th>child_mort</th>\n",
       "      <th>exports</th>\n",
       "      <th>health</th>\n",
       "      <th>imports</th>\n",
       "      <th>income</th>\n",
       "      <th>inflation</th>\n",
       "      <th>life_expec</th>\n",
       "      <th>total_fer</th>\n",
       "      <th>gdpp</th>\n",
       "    </tr>\n",
       "  </thead>\n",
       "  <tbody>\n",
       "    <tr>\n",
       "      <th>count</th>\n",
       "      <td>167.000000</td>\n",
       "      <td>167.000000</td>\n",
       "      <td>167.000000</td>\n",
       "      <td>167.000000</td>\n",
       "      <td>167.000000</td>\n",
       "      <td>167.000000</td>\n",
       "      <td>167.000000</td>\n",
       "      <td>167.000000</td>\n",
       "      <td>167.000000</td>\n",
       "    </tr>\n",
       "    <tr>\n",
       "      <th>mean</th>\n",
       "      <td>38.270060</td>\n",
       "      <td>41.108976</td>\n",
       "      <td>6.815689</td>\n",
       "      <td>46.890215</td>\n",
       "      <td>17144.688623</td>\n",
       "      <td>7.781832</td>\n",
       "      <td>70.555689</td>\n",
       "      <td>2.947964</td>\n",
       "      <td>12964.155689</td>\n",
       "    </tr>\n",
       "    <tr>\n",
       "      <th>std</th>\n",
       "      <td>40.328931</td>\n",
       "      <td>27.412010</td>\n",
       "      <td>2.746837</td>\n",
       "      <td>24.209589</td>\n",
       "      <td>19278.067698</td>\n",
       "      <td>10.570704</td>\n",
       "      <td>8.893172</td>\n",
       "      <td>1.513848</td>\n",
       "      <td>18328.704809</td>\n",
       "    </tr>\n",
       "    <tr>\n",
       "      <th>min</th>\n",
       "      <td>2.600000</td>\n",
       "      <td>0.109000</td>\n",
       "      <td>1.810000</td>\n",
       "      <td>0.065900</td>\n",
       "      <td>609.000000</td>\n",
       "      <td>-4.210000</td>\n",
       "      <td>32.100000</td>\n",
       "      <td>1.150000</td>\n",
       "      <td>231.000000</td>\n",
       "    </tr>\n",
       "    <tr>\n",
       "      <th>25%</th>\n",
       "      <td>8.250000</td>\n",
       "      <td>23.800000</td>\n",
       "      <td>4.920000</td>\n",
       "      <td>30.200000</td>\n",
       "      <td>3355.000000</td>\n",
       "      <td>1.810000</td>\n",
       "      <td>65.300000</td>\n",
       "      <td>1.795000</td>\n",
       "      <td>1330.000000</td>\n",
       "    </tr>\n",
       "    <tr>\n",
       "      <th>50%</th>\n",
       "      <td>19.300000</td>\n",
       "      <td>35.000000</td>\n",
       "      <td>6.320000</td>\n",
       "      <td>43.300000</td>\n",
       "      <td>9960.000000</td>\n",
       "      <td>5.390000</td>\n",
       "      <td>73.100000</td>\n",
       "      <td>2.410000</td>\n",
       "      <td>4660.000000</td>\n",
       "    </tr>\n",
       "    <tr>\n",
       "      <th>75%</th>\n",
       "      <td>62.100000</td>\n",
       "      <td>51.350000</td>\n",
       "      <td>8.600000</td>\n",
       "      <td>58.750000</td>\n",
       "      <td>22800.000000</td>\n",
       "      <td>10.750000</td>\n",
       "      <td>76.800000</td>\n",
       "      <td>3.880000</td>\n",
       "      <td>14050.000000</td>\n",
       "    </tr>\n",
       "    <tr>\n",
       "      <th>max</th>\n",
       "      <td>208.000000</td>\n",
       "      <td>200.000000</td>\n",
       "      <td>17.900000</td>\n",
       "      <td>174.000000</td>\n",
       "      <td>125000.000000</td>\n",
       "      <td>104.000000</td>\n",
       "      <td>82.800000</td>\n",
       "      <td>7.490000</td>\n",
       "      <td>105000.000000</td>\n",
       "    </tr>\n",
       "  </tbody>\n",
       "</table>\n",
       "</div>"
      ],
      "text/plain": [
       "       child_mort     exports      health     imports         income  \\\n",
       "count  167.000000  167.000000  167.000000  167.000000     167.000000   \n",
       "mean    38.270060   41.108976    6.815689   46.890215   17144.688623   \n",
       "std     40.328931   27.412010    2.746837   24.209589   19278.067698   \n",
       "min      2.600000    0.109000    1.810000    0.065900     609.000000   \n",
       "25%      8.250000   23.800000    4.920000   30.200000    3355.000000   \n",
       "50%     19.300000   35.000000    6.320000   43.300000    9960.000000   \n",
       "75%     62.100000   51.350000    8.600000   58.750000   22800.000000   \n",
       "max    208.000000  200.000000   17.900000  174.000000  125000.000000   \n",
       "\n",
       "        inflation  life_expec   total_fer           gdpp  \n",
       "count  167.000000  167.000000  167.000000     167.000000  \n",
       "mean     7.781832   70.555689    2.947964   12964.155689  \n",
       "std     10.570704    8.893172    1.513848   18328.704809  \n",
       "min     -4.210000   32.100000    1.150000     231.000000  \n",
       "25%      1.810000   65.300000    1.795000    1330.000000  \n",
       "50%      5.390000   73.100000    2.410000    4660.000000  \n",
       "75%     10.750000   76.800000    3.880000   14050.000000  \n",
       "max    104.000000   82.800000    7.490000  105000.000000  "
      ]
     },
     "execution_count": 234,
     "metadata": {},
     "output_type": "execute_result"
    }
   ],
   "source": [
    "df.describe()"
   ]
  },
  {
   "cell_type": "code",
   "execution_count": 235,
   "metadata": {},
   "outputs": [
    {
     "data": {
      "image/png": "[encoded data removed]",
      "text/plain": [
       "<Figure size 4000x600 with 9 Axes>"
      ]
     },
     "metadata": {},
     "output_type": "display_data"
    }
   ],
   "source": [
    "df_only_numeric = df.select_dtypes(np.number)\n",
    "\n",
    "# Create the subplots\n",
    "n_rows, n_cols = df_only_numeric.shape\n",
    "fig, axes = plt.subplots(nrows=1, ncols=n_cols, figsize=(40, 6))\n",
    "for i, column in enumerate(df_only_numeric):\n",
    "    sns.histplot(data=df_only_numeric, x=column, ax=axes[i]).set_title(column)"
   ]
  },
  {
   "cell_type": "markdown",
   "metadata": {},
   "source": [
    "# Data preprocessing\n",
    "- Why do we need to preprocess the data?"
   ]
  },
  {
   "cell_type": "code",
   "execution_count": 236,
   "metadata": {},
   "outputs": [],
   "source": [
    "X = df_only_numeric.values"
   ]
  },
  {
   "cell_type": "code",
   "execution_count": 304,
   "metadata": {},
   "outputs": [],
   "source": [
    "scaler = sklearn.preprocessing.MinMaxScaler()\n",
    "X_min_max_scaled = scaler.fit_transform(X)\n",
    "X_min_max_scaled\n",
    "\n",
    "# Max abs scaler\n",
    "scaler_max_abs = sklearn.preprocessing.MaxAbsScaler()\n",
    "X_max_abs_scaled = scaler_max_abs.fit_transform(X)\n",
    "\n",
    "# Power tranformer scaler\n",
    "scaler_power_transform = sklearn.preprocessing.PowerTransformer()\n",
    "X_power_transform_scaled = scaler_power_transform.fit_transform(X)"
   ]
  },
  {
   "cell_type": "markdown",
   "metadata": {},
   "source": [
    "# Clustering"
   ]
  },
  {
   "cell_type": "markdown",
   "metadata": {
    "id": "uMuH_M_seYZ2"
   },
   "source": [
    "## KMeans + clustering quality\n",
    "- https://scikit-learn.org/stable/modules/generated/sklearn.cluster.KMeans.html\n",
    "- Do you know any technique to determine the best number of clusters?"
   ]
  },
  {
   "cell_type": "code",
   "execution_count": 343,
   "metadata": {
    "colab": {
     "base_uri": "https://localhost:8080/",
     "height": 862
    },
    "id": "cKYJ6tFDcwaO",
    "outputId": "60300f10-27f4-4223-dfcc-54af3ef94e2a"
   },
   "outputs": [
    {
     "data": {
      "text/html": [
       "<style>#sk-container-id-28 {color: black;background-color: white;}#sk-container-id-28 pre{padding: 0;}#sk-container-id-28 div.sk-toggleable {background-color: white;}#sk-container-id-28 label.sk-toggleable__label {cursor: pointer;display: block;width: 100%;margin-bottom: 0;padding: 0.3em;box-sizing: border-box;text-align: center;}#sk-container-id-28 label.sk-toggleable__label-arrow:before {content: \"▸\";float: left;margin-right: 0.25em;color: #696969;}#sk-container-id-28 label.sk-toggleable__label-arrow:hover:before {color: black;}#sk-container-id-28 div.sk-estimator:hover label.sk-toggleable__label-arrow:before {color: black;}#sk-container-id-28 div.sk-toggleable__content {max-height: 0;max-width: 0;overflow: hidden;text-align: left;background-color: #f0f8ff;}#sk-container-id-28 div.sk-toggleable__content pre {margin: 0.2em;color: black;border-radius: 0.25em;background-color: #f0f8ff;}#sk-container-id-28 input.sk-toggleable__control:checked~div.sk-toggleable__content {max-height: 200px;max-width: 100%;overflow: auto;}#sk-container-id-28 input.sk-toggleable__control:checked~label.sk-toggleable__label-arrow:before {content: \"▾\";}#sk-container-id-28 div.sk-estimator input.sk-toggleable__control:checked~label.sk-toggleable__label {background-color: #d4ebff;}#sk-container-id-28 div.sk-label input.sk-toggleable__control:checked~label.sk-toggleable__label {background-color: #d4ebff;}#sk-container-id-28 input.sk-hidden--visually {border: 0;clip: rect(1px 1px 1px 1px);clip: rect(1px, 1px, 1px, 1px);height: 1px;margin: -1px;overflow: hidden;padding: 0;position: absolute;width: 1px;}#sk-container-id-28 div.sk-estimator {font-family: monospace;background-color: #f0f8ff;border: 1px dotted black;border-radius: 0.25em;box-sizing: border-box;margin-bottom: 0.5em;}#sk-container-id-28 div.sk-estimator:hover {background-color: #d4ebff;}#sk-container-id-28 div.sk-parallel-item::after {content: \"\";width: 100%;border-bottom: 1px solid gray;flex-grow: 1;}#sk-container-id-28 div.sk-label:hover label.sk-toggleable__label {background-color: #d4ebff;}#sk-container-id-28 div.sk-serial::before {content: \"\";position: absolute;border-left: 1px solid gray;box-sizing: border-box;top: 0;bottom: 0;left: 50%;z-index: 0;}#sk-container-id-28 div.sk-serial {display: flex;flex-direction: column;align-items: center;background-color: white;padding-right: 0.2em;padding-left: 0.2em;position: relative;}#sk-container-id-28 div.sk-item {position: relative;z-index: 1;}#sk-container-id-28 div.sk-parallel {display: flex;align-items: stretch;justify-content: center;background-color: white;position: relative;}#sk-container-id-28 div.sk-item::before, #sk-container-id-28 div.sk-parallel-item::before {content: \"\";position: absolute;border-left: 1px solid gray;box-sizing: border-box;top: 0;bottom: 0;left: 50%;z-index: -1;}#sk-container-id-28 div.sk-parallel-item {display: flex;flex-direction: column;z-index: 1;position: relative;background-color: white;}#sk-container-id-28 div.sk-parallel-item:first-child::after {align-self: flex-end;width: 50%;}#sk-container-id-28 div.sk-parallel-item:last-child::after {align-self: flex-start;width: 50%;}#sk-container-id-28 div.sk-parallel-item:only-child::after {width: 0;}#sk-container-id-28 div.sk-dashed-wrapped {border: 1px dashed gray;margin: 0 0.4em 0.5em 0.4em;box-sizing: border-box;padding-bottom: 0.4em;background-color: white;}#sk-container-id-28 div.sk-label label {font-family: monospace;font-weight: bold;display: inline-block;line-height: 1.2em;}#sk-container-id-28 div.sk-label-container {text-align: center;}#sk-container-id-28 div.sk-container {/* jupyter's `normalize.less` sets `[hidden] { display: none; }` but bootstrap.min.css set `[hidden] { display: none !important; }` so we also need the `!important` here to be able to override the default hidden behavior on the sphinx rendered scikit-learn.org. See: https://github.com/scikit-learn/scikit-learn/issues/21755 */display: inline-block !important;position: relative;}#sk-container-id-28 div.sk-text-repr-fallback {display: none;}</style><div id=\"sk-container-id-28\" class=\"sk-top-container\"><div class=\"sk-text-repr-fallback\"><pre>KMeans(n_clusters=3)</pre><b>In a Jupyter environment, please rerun this cell to show the HTML representation or trust the notebook. <br />On GitHub, the HTML representation is unable to render, please try loading this page with nbviewer.org.</b></div><div class=\"sk-container\" hidden><div class=\"sk-item\"><div class=\"sk-estimator sk-toggleable\"><input class=\"sk-toggleable__control sk-hidden--visually\" id=\"sk-estimator-id-28\" type=\"checkbox\" checked><label for=\"sk-estimator-id-28\" class=\"sk-toggleable__label sk-toggleable__label-arrow\">KMeans</label><div class=\"sk-toggleable__content\"><pre>KMeans(n_clusters=3)</pre></div></div></div></div></div>"
      ],
      "text/plain": [
       "KMeans(n_clusters=3)"
      ]
     },
     "execution_count": 343,
     "metadata": {},
     "output_type": "execute_result"
    }
   ],
   "source": [
    "clustering = sklearn.cluster.KMeans(n_clusters=5)\n",
    "clustering.fit(X_min_max_scaled)\n",
    "\n",
    "# Max abs scaler\n",
    "clustering_second = sklearn.cluster.KMeans(n_clusters=5)\n",
    "clustering_second.fit(X_max_abs_scaled)\n",
    "\n",
    "# Power tranformer scaler\n",
    "clustering_third = sklearn.cluster.KMeans(n_clusters=3)\n",
    "clustering_third.fit(X_power_transform_scaled)\n",
    "\n"
   ]
  },
  {
   "cell_type": "code",
   "execution_count": 306,
   "metadata": {},
   "outputs": [
    {
     "data": {
      "text/plain": [
       "array([1, 2, 0, 1, 2, 0, 0, 4, 4, 0, 2, 2, 0, 2, 2, 4, 0, 1, 0, 0, 2, 0,\n",
       "       0, 4, 2, 1, 1, 0, 1, 4, 0, 1, 1, 2, 0, 0, 1, 1, 1, 2, 1, 2, 2, 2,\n",
       "       4, 0, 0, 0, 0, 1, 1, 2, 0, 4, 4, 0, 1, 2, 4, 1, 4, 0, 0, 1, 1, 0,\n",
       "       1, 2, 4, 0, 0, 0, 0, 4, 4, 4, 0, 4, 0, 0, 1, 1, 4, 0, 0, 2, 2, 1,\n",
       "       1, 0, 2, 3, 2, 1, 1, 2, 2, 1, 3, 1, 2, 2, 2, 0, 2, 0, 1, 0, 0, 0,\n",
       "       4, 4, 1, 1, 4, 0, 1, 2, 0, 0, 0, 2, 2, 4, 2, 0, 1, 0, 0, 1, 2, 2,\n",
       "       1, 3, 2, 2, 0, 0, 2, 4, 0, 0, 1, 0, 4, 4, 0, 1, 2, 1, 1, 0, 2, 0,\n",
       "       0, 1, 2, 4, 4, 4, 2, 0, 0, 0, 2, 1, 1])"
      ]
     },
     "execution_count": 306,
     "metadata": {},
     "output_type": "execute_result"
    }
   ],
   "source": [
    "# clustering.labels_\n",
    "clustering_second.labels_"
   ]
  },
  {
   "cell_type": "code",
   "execution_count": 344,
   "metadata": {},
   "outputs": [
    {
     "data": {
      "text/plain": [
       "0    64\n",
       "1    55\n",
       "2    48\n",
       "dtype: int64"
      ]
     },
     "execution_count": 344,
     "metadata": {},
     "output_type": "execute_result"
    }
   ],
   "source": [
    "pd.Series(clustering.labels_).value_counts()\n",
    "############################################################\n",
    "pd.Series(clustering_second.labels_).value_counts()\n",
    "############################################################\n",
    "pd.Series(clustering_third.labels_).value_counts()"
   ]
  },
  {
   "cell_type": "code",
   "execution_count": 323,
   "metadata": {
    "colab": {
     "base_uri": "https://localhost:8080/",
     "height": 35
    },
    "id": "6OJQETQxc7RP",
    "outputId": "2086c31e-9d30-4b04-d0e5-5b0102589d15"
   },
   "outputs": [
    {
     "data": {
      "text/plain": [
       "598.8685433589204"
      ]
     },
     "execution_count": 323,
     "metadata": {},
     "output_type": "execute_result"
    }
   ],
   "source": [
    "clustering.inertia_\n",
    "clustering_second.inertia_\n",
    "clustering_third.inertia_"
   ]
  },
  {
   "cell_type": "code",
   "execution_count": 345,
   "metadata": {
    "colab": {
     "base_uri": "https://localhost:8080/",
     "height": 35
    },
    "id": "BCQ0FcUGdv8-",
    "outputId": "b5f6e453-3274-4d9b-8601-7235ec9e5e4b"
   },
   "outputs": [
    {
     "data": {
      "text/plain": [
       "0.22961829499357514"
      ]
     },
     "execution_count": 345,
     "metadata": {},
     "output_type": "execute_result"
    }
   ],
   "source": [
    "# sklearn.metrics.silhouette_score(X_min_max_scaled, clustering.labels_)\n",
    "sklearn.metrics.silhouette_score(X_max_abs_scaled, clustering.labels_)\n",
    "# sklearn.metrics.silhouette_score(X_power_transform_scaled, clustering.labels_)\n"
   ]
  },
  {
   "cell_type": "markdown",
   "metadata": {},
   "source": [
    "## Elbow method"
   ]
  },
  {
   "cell_type": "markdown",
   "metadata": {},
   "source": [
    "#### Calculate SSE and Silhouette for differenet parameters of clusters $k \\in <2, 15>$. Create visualization for both of clustering quality criteria"
   ]
  },
  {
   "cell_type": "code",
   "execution_count": 346,
   "metadata": {
    "colab": {
     "base_uri": "https://localhost:8080/",
     "height": 559
    },
    "id": "E_7s0eVWdfjS",
    "outputId": "5c1ae307-63ba-48b3-e6b2-9e8995b95c55"
   },
   "outputs": [
    {
     "data": {
      "text/html": [
       "<div>\n",
       "<style scoped>\n",
       "    .dataframe tbody tr th:only-of-type {\n",
       "        vertical-align: middle;\n",
       "    }\n",
       "\n",
       "    .dataframe tbody tr th {\n",
       "        vertical-align: top;\n",
       "    }\n",
       "\n",
       "    .dataframe thead th {\n",
       "        text-align: right;\n",
       "    }\n",
       "</style>\n",
       "<table border=\"1\" class=\"dataframe\">\n",
       "  <thead>\n",
       "    <tr style=\"text-align: right;\">\n",
       "      <th></th>\n",
       "      <th>k</th>\n",
       "      <th>sse</th>\n",
       "      <th>silhouette</th>\n",
       "    </tr>\n",
       "  </thead>\n",
       "  <tbody>\n",
       "    <tr>\n",
       "      <th>0</th>\n",
       "      <td>2</td>\n",
       "      <td>903.308344</td>\n",
       "      <td>0.337161</td>\n",
       "    </tr>\n",
       "    <tr>\n",
       "      <th>1</th>\n",
       "      <td>3</td>\n",
       "      <td>744.744590</td>\n",
       "      <td>0.245840</td>\n",
       "    </tr>\n",
       "    <tr>\n",
       "      <th>2</th>\n",
       "      <td>4</td>\n",
       "      <td>665.018291</td>\n",
       "      <td>0.228725</td>\n",
       "    </tr>\n",
       "    <tr>\n",
       "      <th>3</th>\n",
       "      <td>5</td>\n",
       "      <td>599.290591</td>\n",
       "      <td>0.216983</td>\n",
       "    </tr>\n",
       "    <tr>\n",
       "      <th>4</th>\n",
       "      <td>6</td>\n",
       "      <td>552.837987</td>\n",
       "      <td>0.224291</td>\n",
       "    </tr>\n",
       "    <tr>\n",
       "      <th>5</th>\n",
       "      <td>7</td>\n",
       "      <td>507.791570</td>\n",
       "      <td>0.216460</td>\n",
       "    </tr>\n",
       "    <tr>\n",
       "      <th>6</th>\n",
       "      <td>8</td>\n",
       "      <td>468.355731</td>\n",
       "      <td>0.220972</td>\n",
       "    </tr>\n",
       "    <tr>\n",
       "      <th>7</th>\n",
       "      <td>9</td>\n",
       "      <td>430.847523</td>\n",
       "      <td>0.231876</td>\n",
       "    </tr>\n",
       "    <tr>\n",
       "      <th>8</th>\n",
       "      <td>10</td>\n",
       "      <td>409.812889</td>\n",
       "      <td>0.220083</td>\n",
       "    </tr>\n",
       "  </tbody>\n",
       "</table>\n",
       "</div>"
      ],
      "text/plain": [
       "    k         sse  silhouette\n",
       "0   2  903.308344    0.337161\n",
       "1   3  744.744590    0.245840\n",
       "2   4  665.018291    0.228725\n",
       "3   5  599.290591    0.216983\n",
       "4   6  552.837987    0.224291\n",
       "5   7  507.791570    0.216460\n",
       "6   8  468.355731    0.220972\n",
       "7   9  430.847523    0.231876\n",
       "8  10  409.812889    0.220083"
      ]
     },
     "execution_count": 346,
     "metadata": {},
     "output_type": "execute_result"
    }
   ],
   "source": [
    "clustering_scores = []\n",
    "for k in range(2, 11):\n",
    "    # clustering = sklearn.cluster.KMeans(n_clusters=k).fit(X_min_max_scaled)\n",
    "    # clustering = sklearn.cluster.KMeans(n_clusters=k).fit(X_max_abs_scaled)\n",
    "    clustering = sklearn.cluster.KMeans(n_clusters=k).fit(X_power_transform_scaled)\n",
    "\n",
    "    clustering_scores.append({\n",
    "        'k': k,\n",
    "        'sse': clustering.inertia_,\n",
    "        # 'silhouette': sklearn.metrics.silhouette_score(X_min_max_scaled, clustering.labels_)\n",
    "        # 'silhouette': sklearn.metrics.silhouette_score(X_max_abs_scaled, clustering.labels_)\n",
    "        'silhouette': sklearn.metrics.silhouette_score(X_power_transform_scaled, clustering.labels_)\n",
    "    })\n",
    "df_clustering_scores = pd.DataFrame.from_dict(clustering_scores, orient='columns')\n",
    "df_clustering_scores"
   ]
  },
  {
   "cell_type": "code",
   "execution_count": 347,
   "metadata": {},
   "outputs": [
    {
     "data": {
      "text/plain": [
       "<AxesSubplot: xlabel='k', ylabel='sse'>"
      ]
     },
     "execution_count": 347,
     "metadata": {},
     "output_type": "execute_result"
    },
    {
     "data": {
      "image/png": "[encoded data removed]",
      "text/plain": [
       "<Figure size 640x480 with 1 Axes>"
      ]
     },
     "metadata": {},
     "output_type": "display_data"
    }
   ],
   "source": [
    "sns.lineplot(data=df_clustering_scores, x='k', y='sse')"
   ]
  },
  {
   "cell_type": "code",
   "execution_count": 348,
   "metadata": {},
   "outputs": [
    {
     "data": {
      "text/plain": [
       "<AxesSubplot: xlabel='k', ylabel='silhouette'>"
      ]
     },
     "execution_count": 348,
     "metadata": {},
     "output_type": "execute_result"
    },
    {
     "data": {
      "image/png": "[encoded data removed]",
      "text/plain": [
       "<Figure size 640x480 with 1 Axes>"
      ]
     },
     "metadata": {},
     "output_type": "display_data"
    }
   ],
   "source": [
    "sns.lineplot(data=df_clustering_scores, x='k', y='silhouette')"
   ]
  },
  {
   "cell_type": "markdown",
   "metadata": {},
   "source": [
    "#### How many cluster do you see ?"
   ]
  },
  {
   "cell_type": "markdown",
   "metadata": {},
   "source": [
    "#### Can you imagine other quality criteria to use over some real dataset? Do you know difference between external and internal criteria?"
   ]
  },
  {
   "cell_type": "markdown",
   "metadata": {},
   "source": [
    "## Clustering interpretation"
   ]
  },
  {
   "cell_type": "code",
   "execution_count": 350,
   "metadata": {},
   "outputs": [
    {
     "data": {
      "text/html": [
       "<style>#sk-container-id-30 {color: black;background-color: white;}#sk-container-id-30 pre{padding: 0;}#sk-container-id-30 div.sk-toggleable {background-color: white;}#sk-container-id-30 label.sk-toggleable__label {cursor: pointer;display: block;width: 100%;margin-bottom: 0;padding: 0.3em;box-sizing: border-box;text-align: center;}#sk-container-id-30 label.sk-toggleable__label-arrow:before {content: \"▸\";float: left;margin-right: 0.25em;color: #696969;}#sk-container-id-30 label.sk-toggleable__label-arrow:hover:before {color: black;}#sk-container-id-30 div.sk-estimator:hover label.sk-toggleable__label-arrow:before {color: black;}#sk-container-id-30 div.sk-toggleable__content {max-height: 0;max-width: 0;overflow: hidden;text-align: left;background-color: #f0f8ff;}#sk-container-id-30 div.sk-toggleable__content pre {margin: 0.2em;color: black;border-radius: 0.25em;background-color: #f0f8ff;}#sk-container-id-30 input.sk-toggleable__control:checked~div.sk-toggleable__content {max-height: 200px;max-width: 100%;overflow: auto;}#sk-container-id-30 input.sk-toggleable__control:checked~label.sk-toggleable__label-arrow:before {content: \"▾\";}#sk-container-id-30 div.sk-estimator input.sk-toggleable__control:checked~label.sk-toggleable__label {background-color: #d4ebff;}#sk-container-id-30 div.sk-label input.sk-toggleable__control:checked~label.sk-toggleable__label {background-color: #d4ebff;}#sk-container-id-30 input.sk-hidden--visually {border: 0;clip: rect(1px 1px 1px 1px);clip: rect(1px, 1px, 1px, 1px);height: 1px;margin: -1px;overflow: hidden;padding: 0;position: absolute;width: 1px;}#sk-container-id-30 div.sk-estimator {font-family: monospace;background-color: #f0f8ff;border: 1px dotted black;border-radius: 0.25em;box-sizing: border-box;margin-bottom: 0.5em;}#sk-container-id-30 div.sk-estimator:hover {background-color: #d4ebff;}#sk-container-id-30 div.sk-parallel-item::after {content: \"\";width: 100%;border-bottom: 1px solid gray;flex-grow: 1;}#sk-container-id-30 div.sk-label:hover label.sk-toggleable__label {background-color: #d4ebff;}#sk-container-id-30 div.sk-serial::before {content: \"\";position: absolute;border-left: 1px solid gray;box-sizing: border-box;top: 0;bottom: 0;left: 50%;z-index: 0;}#sk-container-id-30 div.sk-serial {display: flex;flex-direction: column;align-items: center;background-color: white;padding-right: 0.2em;padding-left: 0.2em;position: relative;}#sk-container-id-30 div.sk-item {position: relative;z-index: 1;}#sk-container-id-30 div.sk-parallel {display: flex;align-items: stretch;justify-content: center;background-color: white;position: relative;}#sk-container-id-30 div.sk-item::before, #sk-container-id-30 div.sk-parallel-item::before {content: \"\";position: absolute;border-left: 1px solid gray;box-sizing: border-box;top: 0;bottom: 0;left: 50%;z-index: -1;}#sk-container-id-30 div.sk-parallel-item {display: flex;flex-direction: column;z-index: 1;position: relative;background-color: white;}#sk-container-id-30 div.sk-parallel-item:first-child::after {align-self: flex-end;width: 50%;}#sk-container-id-30 div.sk-parallel-item:last-child::after {align-self: flex-start;width: 50%;}#sk-container-id-30 div.sk-parallel-item:only-child::after {width: 0;}#sk-container-id-30 div.sk-dashed-wrapped {border: 1px dashed gray;margin: 0 0.4em 0.5em 0.4em;box-sizing: border-box;padding-bottom: 0.4em;background-color: white;}#sk-container-id-30 div.sk-label label {font-family: monospace;font-weight: bold;display: inline-block;line-height: 1.2em;}#sk-container-id-30 div.sk-label-container {text-align: center;}#sk-container-id-30 div.sk-container {/* jupyter's `normalize.less` sets `[hidden] { display: none; }` but bootstrap.min.css set `[hidden] { display: none !important; }` so we also need the `!important` here to be able to override the default hidden behavior on the sphinx rendered scikit-learn.org. See: https://github.com/scikit-learn/scikit-learn/issues/21755 */display: inline-block !important;position: relative;}#sk-container-id-30 div.sk-text-repr-fallback {display: none;}</style><div id=\"sk-container-id-30\" class=\"sk-top-container\"><div class=\"sk-text-repr-fallback\"><pre>KMeans(n_clusters=3, random_state=13)</pre><b>In a Jupyter environment, please rerun this cell to show the HTML representation or trust the notebook. <br />On GitHub, the HTML representation is unable to render, please try loading this page with nbviewer.org.</b></div><div class=\"sk-container\" hidden><div class=\"sk-item\"><div class=\"sk-estimator sk-toggleable\"><input class=\"sk-toggleable__control sk-hidden--visually\" id=\"sk-estimator-id-30\" type=\"checkbox\" checked><label for=\"sk-estimator-id-30\" class=\"sk-toggleable__label sk-toggleable__label-arrow\">KMeans</label><div class=\"sk-toggleable__content\"><pre>KMeans(n_clusters=3, random_state=13)</pre></div></div></div></div></div>"
      ],
      "text/plain": [
       "KMeans(n_clusters=3, random_state=13)"
      ]
     },
     "execution_count": 350,
     "metadata": {},
     "output_type": "execute_result"
    }
   ],
   "source": [
    "clustering = sklearn.cluster.KMeans(n_clusters=3, random_state=13)\n",
    "clustering.fit(X_power_transform_scaled)"
   ]
  },
  {
   "cell_type": "code",
   "execution_count": 356,
   "metadata": {},
   "outputs": [],
   "source": [
    "df['cluster_id'] = clustering.labels_"
   ]
  },
  {
   "cell_type": "code",
   "execution_count": 357,
   "metadata": {},
   "outputs": [
    {
     "data": {
      "text/plain": [
       "<AxesSubplot: xlabel='cluster_id', ylabel='count'>"
      ]
     },
     "execution_count": 357,
     "metadata": {},
     "output_type": "execute_result"
    },
    {
     "data": {
      "image/png": "[encoded data removed]",
      "text/plain": [
       "<Figure size 640x480 with 1 Axes>"
      ]
     },
     "metadata": {},
     "output_type": "display_data"
    }
   ],
   "source": [
    "sns.countplot(data=df, x='cluster_id')"
   ]
  },
  {
   "cell_type": "markdown",
   "metadata": {},
   "source": [
    "## 1. Analyze already detected clusters deeper"
   ]
  },
  {
   "cell_type": "markdown",
   "metadata": {},
   "source": [
    "#### Use describe() for quick inspection of numeric values in dataset."
   ]
  },
  {
   "cell_type": "code",
   "execution_count": 353,
   "metadata": {},
   "outputs": [
    {
     "data": {
      "text/html": [
       "<div>\n",
       "<style scoped>\n",
       "    .dataframe tbody tr th:only-of-type {\n",
       "        vertical-align: middle;\n",
       "    }\n",
       "\n",
       "    .dataframe tbody tr th {\n",
       "        vertical-align: top;\n",
       "    }\n",
       "\n",
       "    .dataframe thead tr th {\n",
       "        text-align: left;\n",
       "    }\n",
       "\n",
       "    .dataframe thead tr:last-of-type th {\n",
       "        text-align: right;\n",
       "    }\n",
       "</style>\n",
       "<table border=\"1\" class=\"dataframe\">\n",
       "  <thead>\n",
       "    <tr>\n",
       "      <th></th>\n",
       "      <th colspan=\"8\" halign=\"left\">child_mort</th>\n",
       "      <th colspan=\"8\" halign=\"left\">exports</th>\n",
       "      <th colspan=\"8\" halign=\"left\">health</th>\n",
       "      <th colspan=\"8\" halign=\"left\">imports</th>\n",
       "      <th colspan=\"8\" halign=\"left\">income</th>\n",
       "      <th colspan=\"8\" halign=\"left\">inflation</th>\n",
       "      <th colspan=\"8\" halign=\"left\">life_expec</th>\n",
       "      <th colspan=\"8\" halign=\"left\">total_fer</th>\n",
       "      <th colspan=\"8\" halign=\"left\">gdpp</th>\n",
       "    </tr>\n",
       "    <tr>\n",
       "      <th></th>\n",
       "      <th>count</th>\n",
       "      <th>mean</th>\n",
       "      <th>std</th>\n",
       "      <th>min</th>\n",
       "      <th>25%</th>\n",
       "      <th>50%</th>\n",
       "      <th>75%</th>\n",
       "      <th>max</th>\n",
       "      <th>count</th>\n",
       "      <th>mean</th>\n",
       "      <th>std</th>\n",
       "      <th>min</th>\n",
       "      <th>25%</th>\n",
       "      <th>50%</th>\n",
       "      <th>75%</th>\n",
       "      <th>max</th>\n",
       "      <th>count</th>\n",
       "      <th>mean</th>\n",
       "      <th>std</th>\n",
       "      <th>min</th>\n",
       "      <th>25%</th>\n",
       "      <th>50%</th>\n",
       "      <th>75%</th>\n",
       "      <th>max</th>\n",
       "      <th>count</th>\n",
       "      <th>mean</th>\n",
       "      <th>std</th>\n",
       "      <th>min</th>\n",
       "      <th>25%</th>\n",
       "      <th>50%</th>\n",
       "      <th>75%</th>\n",
       "      <th>max</th>\n",
       "      <th>count</th>\n",
       "      <th>mean</th>\n",
       "      <th>std</th>\n",
       "      <th>min</th>\n",
       "      <th>25%</th>\n",
       "      <th>50%</th>\n",
       "      <th>75%</th>\n",
       "      <th>max</th>\n",
       "      <th>count</th>\n",
       "      <th>mean</th>\n",
       "      <th>std</th>\n",
       "      <th>min</th>\n",
       "      <th>25%</th>\n",
       "      <th>50%</th>\n",
       "      <th>75%</th>\n",
       "      <th>max</th>\n",
       "      <th>count</th>\n",
       "      <th>mean</th>\n",
       "      <th>std</th>\n",
       "      <th>min</th>\n",
       "      <th>25%</th>\n",
       "      <th>50%</th>\n",
       "      <th>75%</th>\n",
       "      <th>max</th>\n",
       "      <th>count</th>\n",
       "      <th>mean</th>\n",
       "      <th>std</th>\n",
       "      <th>min</th>\n",
       "      <th>25%</th>\n",
       "      <th>50%</th>\n",
       "      <th>75%</th>\n",
       "      <th>max</th>\n",
       "      <th>count</th>\n",
       "      <th>mean</th>\n",
       "      <th>std</th>\n",
       "      <th>min</th>\n",
       "      <th>25%</th>\n",
       "      <th>50%</th>\n",
       "      <th>75%</th>\n",
       "      <th>max</th>\n",
       "    </tr>\n",
       "    <tr>\n",
       "      <th>cluster_id</th>\n",
       "      <th></th>\n",
       "      <th></th>\n",
       "      <th></th>\n",
       "      <th></th>\n",
       "      <th></th>\n",
       "      <th></th>\n",
       "      <th></th>\n",
       "      <th></th>\n",
       "      <th></th>\n",
       "      <th></th>\n",
       "      <th></th>\n",
       "      <th></th>\n",
       "      <th></th>\n",
       "      <th></th>\n",
       "      <th></th>\n",
       "      <th></th>\n",
       "      <th></th>\n",
       "      <th></th>\n",
       "      <th></th>\n",
       "      <th></th>\n",
       "      <th></th>\n",
       "      <th></th>\n",
       "      <th></th>\n",
       "      <th></th>\n",
       "      <th></th>\n",
       "      <th></th>\n",
       "      <th></th>\n",
       "      <th></th>\n",
       "      <th></th>\n",
       "      <th></th>\n",
       "      <th></th>\n",
       "      <th></th>\n",
       "      <th></th>\n",
       "      <th></th>\n",
       "      <th></th>\n",
       "      <th></th>\n",
       "      <th></th>\n",
       "      <th></th>\n",
       "      <th></th>\n",
       "      <th></th>\n",
       "      <th></th>\n",
       "      <th></th>\n",
       "      <th></th>\n",
       "      <th></th>\n",
       "      <th></th>\n",
       "      <th></th>\n",
       "      <th></th>\n",
       "      <th></th>\n",
       "      <th></th>\n",
       "      <th></th>\n",
       "      <th></th>\n",
       "      <th></th>\n",
       "      <th></th>\n",
       "      <th></th>\n",
       "      <th></th>\n",
       "      <th></th>\n",
       "      <th></th>\n",
       "      <th></th>\n",
       "      <th></th>\n",
       "      <th></th>\n",
       "      <th></th>\n",
       "      <th></th>\n",
       "      <th></th>\n",
       "      <th></th>\n",
       "      <th></th>\n",
       "      <th></th>\n",
       "      <th></th>\n",
       "      <th></th>\n",
       "      <th></th>\n",
       "      <th></th>\n",
       "      <th></th>\n",
       "      <th></th>\n",
       "    </tr>\n",
       "  </thead>\n",
       "  <tbody>\n",
       "    <tr>\n",
       "      <th>0</th>\n",
       "      <td>48.0</td>\n",
       "      <td>89.916667</td>\n",
       "      <td>35.155898</td>\n",
       "      <td>28.1</td>\n",
       "      <td>62.675</td>\n",
       "      <td>88.75</td>\n",
       "      <td>111.00</td>\n",
       "      <td>208.0</td>\n",
       "      <td>48.0</td>\n",
       "      <td>24.420813</td>\n",
       "      <td>13.827653</td>\n",
       "      <td>0.109</td>\n",
       "      <td>15.2</td>\n",
       "      <td>22.4</td>\n",
       "      <td>30.600</td>\n",
       "      <td>62.3</td>\n",
       "      <td>48.0</td>\n",
       "      <td>6.387292</td>\n",
       "      <td>2.862171</td>\n",
       "      <td>1.97</td>\n",
       "      <td>4.5250</td>\n",
       "      <td>5.480</td>\n",
       "      <td>7.715</td>\n",
       "      <td>14.2</td>\n",
       "      <td>48.0</td>\n",
       "      <td>42.684706</td>\n",
       "      <td>20.007544</td>\n",
       "      <td>0.0659</td>\n",
       "      <td>29.475</td>\n",
       "      <td>39.75</td>\n",
       "      <td>49.375</td>\n",
       "      <td>101.0</td>\n",
       "      <td>48.0</td>\n",
       "      <td>2226.104167</td>\n",
       "      <td>1234.208614</td>\n",
       "      <td>609.0</td>\n",
       "      <td>1390.0</td>\n",
       "      <td>1860.0</td>\n",
       "      <td>2782.5</td>\n",
       "      <td>5900.0</td>\n",
       "      <td>48.0</td>\n",
       "      <td>11.078854</td>\n",
       "      <td>15.206496</td>\n",
       "      <td>0.885</td>\n",
       "      <td>3.8525</td>\n",
       "      <td>7.39</td>\n",
       "      <td>12.875</td>\n",
       "      <td>104.0</td>\n",
       "      <td>48.0</td>\n",
       "      <td>60.310417</td>\n",
       "      <td>6.927228</td>\n",
       "      <td>32.1</td>\n",
       "      <td>57.175</td>\n",
       "      <td>60.75</td>\n",
       "      <td>65.425</td>\n",
       "      <td>71.1</td>\n",
       "      <td>48.0</td>\n",
       "      <td>4.823958</td>\n",
       "      <td>1.220613</td>\n",
       "      <td>2.33</td>\n",
       "      <td>4.1425</td>\n",
       "      <td>5.035</td>\n",
       "      <td>5.5975</td>\n",
       "      <td>7.49</td>\n",
       "      <td>48.0</td>\n",
       "      <td>995.916667</td>\n",
       "      <td>740.878973</td>\n",
       "      <td>231.0</td>\n",
       "      <td>551.5</td>\n",
       "      <td>758.0</td>\n",
       "      <td>1237.5</td>\n",
       "      <td>3600.0</td>\n",
       "    </tr>\n",
       "    <tr>\n",
       "      <th>1</th>\n",
       "      <td>55.0</td>\n",
       "      <td>6.670909</td>\n",
       "      <td>3.773429</td>\n",
       "      <td>2.6</td>\n",
       "      <td>4.050</td>\n",
       "      <td>5.50</td>\n",
       "      <td>8.60</td>\n",
       "      <td>19.7</td>\n",
       "      <td>55.0</td>\n",
       "      <td>55.327273</td>\n",
       "      <td>35.832447</td>\n",
       "      <td>12.400</td>\n",
       "      <td>34.1</td>\n",
       "      <td>46.2</td>\n",
       "      <td>67.750</td>\n",
       "      <td>200.0</td>\n",
       "      <td>55.0</td>\n",
       "      <td>8.547091</td>\n",
       "      <td>2.625774</td>\n",
       "      <td>1.81</td>\n",
       "      <td>7.0350</td>\n",
       "      <td>8.730</td>\n",
       "      <td>10.200</td>\n",
       "      <td>17.9</td>\n",
       "      <td>55.0</td>\n",
       "      <td>54.683636</td>\n",
       "      <td>31.234364</td>\n",
       "      <td>13.6000</td>\n",
       "      <td>33.950</td>\n",
       "      <td>48.70</td>\n",
       "      <td>63.250</td>\n",
       "      <td>174.0</td>\n",
       "      <td>55.0</td>\n",
       "      <td>33564.000000</td>\n",
       "      <td>20475.718737</td>\n",
       "      <td>9720.0</td>\n",
       "      <td>19750.0</td>\n",
       "      <td>29600.0</td>\n",
       "      <td>41100.0</td>\n",
       "      <td>125000.0</td>\n",
       "      <td>55.0</td>\n",
       "      <td>1.962545</td>\n",
       "      <td>2.871385</td>\n",
       "      <td>-4.210</td>\n",
       "      <td>0.4180</td>\n",
       "      <td>1.40</td>\n",
       "      <td>2.875</td>\n",
       "      <td>12.5</td>\n",
       "      <td>55.0</td>\n",
       "      <td>78.610909</td>\n",
       "      <td>2.877542</td>\n",
       "      <td>73.1</td>\n",
       "      <td>76.350</td>\n",
       "      <td>79.80</td>\n",
       "      <td>80.800</td>\n",
       "      <td>82.8</td>\n",
       "      <td>55.0</td>\n",
       "      <td>1.729636</td>\n",
       "      <td>0.362501</td>\n",
       "      <td>1.15</td>\n",
       "      <td>1.4350</td>\n",
       "      <td>1.630</td>\n",
       "      <td>1.9300</td>\n",
       "      <td>3.03</td>\n",
       "      <td>55.0</td>\n",
       "      <td>30569.454545</td>\n",
       "      <td>22137.240487</td>\n",
       "      <td>4540.0</td>\n",
       "      <td>12400.0</td>\n",
       "      <td>26900.0</td>\n",
       "      <td>45350.0</td>\n",
       "      <td>105000.0</td>\n",
       "    </tr>\n",
       "    <tr>\n",
       "      <th>2</th>\n",
       "      <td>64.0</td>\n",
       "      <td>26.690625</td>\n",
       "      <td>17.636180</td>\n",
       "      <td>5.5</td>\n",
       "      <td>16.575</td>\n",
       "      <td>20.50</td>\n",
       "      <td>33.35</td>\n",
       "      <td>111.0</td>\n",
       "      <td>64.0</td>\n",
       "      <td>41.406250</td>\n",
       "      <td>18.654153</td>\n",
       "      <td>10.700</td>\n",
       "      <td>26.9</td>\n",
       "      <td>38.8</td>\n",
       "      <td>51.825</td>\n",
       "      <td>86.9</td>\n",
       "      <td>64.0</td>\n",
       "      <td>5.649062</td>\n",
       "      <td>1.928732</td>\n",
       "      <td>2.46</td>\n",
       "      <td>4.3975</td>\n",
       "      <td>5.315</td>\n",
       "      <td>6.795</td>\n",
       "      <td>11.7</td>\n",
       "      <td>64.0</td>\n",
       "      <td>43.346875</td>\n",
       "      <td>18.172218</td>\n",
       "      <td>11.8000</td>\n",
       "      <td>27.850</td>\n",
       "      <td>42.55</td>\n",
       "      <td>56.800</td>\n",
       "      <td>81.7</td>\n",
       "      <td>64.0</td>\n",
       "      <td>14223.281250</td>\n",
       "      <td>14323.122504</td>\n",
       "      <td>2790.0</td>\n",
       "      <td>6725.0</td>\n",
       "      <td>9925.0</td>\n",
       "      <td>16050.0</td>\n",
       "      <td>80600.0</td>\n",
       "      <td>64.0</td>\n",
       "      <td>10.310016</td>\n",
       "      <td>8.396944</td>\n",
       "      <td>0.480</td>\n",
       "      <td>4.3875</td>\n",
       "      <td>8.09</td>\n",
       "      <td>15.150</td>\n",
       "      <td>45.9</td>\n",
       "      <td>64.0</td>\n",
       "      <td>71.317188</td>\n",
       "      <td>5.318388</td>\n",
       "      <td>54.3</td>\n",
       "      <td>69.075</td>\n",
       "      <td>72.30</td>\n",
       "      <td>75.175</td>\n",
       "      <td>78.2</td>\n",
       "      <td>64.0</td>\n",
       "      <td>2.587969</td>\n",
       "      <td>0.839934</td>\n",
       "      <td>1.27</td>\n",
       "      <td>2.0550</td>\n",
       "      <td>2.500</td>\n",
       "      <td>2.8925</td>\n",
       "      <td>5.21</td>\n",
       "      <td>64.0</td>\n",
       "      <td>6810.781250</td>\n",
       "      <td>6821.487829</td>\n",
       "      <td>880.0</td>\n",
       "      <td>2985.0</td>\n",
       "      <td>4530.0</td>\n",
       "      <td>8247.5</td>\n",
       "      <td>38500.0</td>\n",
       "    </tr>\n",
       "  </tbody>\n",
       "</table>\n",
       "</div>"
      ],
      "text/plain": [
       "           child_mort                                                     \\\n",
       "                count       mean        std   min     25%    50%     75%   \n",
       "cluster_id                                                                 \n",
       "0                48.0  89.916667  35.155898  28.1  62.675  88.75  111.00   \n",
       "1                55.0   6.670909   3.773429   2.6   4.050   5.50    8.60   \n",
       "2                64.0  26.690625  17.636180   5.5  16.575  20.50   33.35   \n",
       "\n",
       "                  exports                                                    \\\n",
       "              max   count       mean        std     min   25%   50%     75%   \n",
       "cluster_id                                                                    \n",
       "0           208.0    48.0  24.420813  13.827653   0.109  15.2  22.4  30.600   \n",
       "1            19.7    55.0  55.327273  35.832447  12.400  34.1  46.2  67.750   \n",
       "2           111.0    64.0  41.406250  18.654153  10.700  26.9  38.8  51.825   \n",
       "\n",
       "                  health                                                   \\\n",
       "              max  count      mean       std   min     25%    50%     75%   \n",
       "cluster_id                                                                  \n",
       "0            62.3   48.0  6.387292  2.862171  1.97  4.5250  5.480   7.715   \n",
       "1           200.0   55.0  8.547091  2.625774  1.81  7.0350  8.730  10.200   \n",
       "2            86.9   64.0  5.649062  1.928732  2.46  4.3975  5.315   6.795   \n",
       "\n",
       "                 imports                                                \\\n",
       "             max   count       mean        std      min     25%    50%   \n",
       "cluster_id                                                               \n",
       "0           14.2    48.0  42.684706  20.007544   0.0659  29.475  39.75   \n",
       "1           17.9    55.0  54.683636  31.234364  13.6000  33.950  48.70   \n",
       "2           11.7    64.0  43.346875  18.172218  11.8000  27.850  42.55   \n",
       "\n",
       "                          income                                               \\\n",
       "               75%    max  count          mean           std     min      25%   \n",
       "cluster_id                                                                      \n",
       "0           49.375  101.0   48.0   2226.104167   1234.208614   609.0   1390.0   \n",
       "1           63.250  174.0   55.0  33564.000000  20475.718737  9720.0  19750.0   \n",
       "2           56.800   81.7   64.0  14223.281250  14323.122504  2790.0   6725.0   \n",
       "\n",
       "                                       inflation                               \\\n",
       "                50%      75%       max     count       mean        std    min   \n",
       "cluster_id                                                                      \n",
       "0            1860.0   2782.5    5900.0      48.0  11.078854  15.206496  0.885   \n",
       "1           29600.0  41100.0  125000.0      55.0   1.962545   2.871385 -4.210   \n",
       "2            9925.0  16050.0   80600.0      64.0  10.310016   8.396944  0.480   \n",
       "\n",
       "                                        life_expec                             \\\n",
       "               25%   50%     75%    max      count       mean       std   min   \n",
       "cluster_id                                                                      \n",
       "0           3.8525  7.39  12.875  104.0       48.0  60.310417  6.927228  32.1   \n",
       "1           0.4180  1.40   2.875   12.5       55.0  78.610909  2.877542  73.1   \n",
       "2           4.3875  8.09  15.150   45.9       64.0  71.317188  5.318388  54.3   \n",
       "\n",
       "                                        total_fer                            \\\n",
       "               25%    50%     75%   max     count      mean       std   min   \n",
       "cluster_id                                                                    \n",
       "0           57.175  60.75  65.425  71.1      48.0  4.823958  1.220613  2.33   \n",
       "1           76.350  79.80  80.800  82.8      55.0  1.729636  0.362501  1.15   \n",
       "2           69.075  72.30  75.175  78.2      64.0  2.587969  0.839934  1.27   \n",
       "\n",
       "                                         gdpp                              \\\n",
       "               25%    50%     75%   max count          mean           std   \n",
       "cluster_id                                                                  \n",
       "0           4.1425  5.035  5.5975  7.49  48.0    995.916667    740.878973   \n",
       "1           1.4350  1.630  1.9300  3.03  55.0  30569.454545  22137.240487   \n",
       "2           2.0550  2.500  2.8925  5.21  64.0   6810.781250   6821.487829   \n",
       "\n",
       "                                                         \n",
       "               min      25%      50%      75%       max  \n",
       "cluster_id                                               \n",
       "0            231.0    551.5    758.0   1237.5    3600.0  \n",
       "1           4540.0  12400.0  26900.0  45350.0  105000.0  \n",
       "2            880.0   2985.0   4530.0   8247.5   38500.0  "
      ]
     },
     "metadata": {},
     "output_type": "display_data"
    }
   ],
   "source": [
    "with pd.option_context('display.max_columns', None):\n",
    "    display(df.groupby('cluster_id').describe())"
   ]
  },
  {
   "cell_type": "code",
   "execution_count": 354,
   "metadata": {},
   "outputs": [
    {
     "data": {
      "text/plain": [
       "<AxesSubplot: xlabel='cluster_id', ylabel='income'>"
      ]
     },
     "execution_count": 354,
     "metadata": {},
     "output_type": "execute_result"
    },
    {
     "data": {
      "image/png": "[encoded data removed]",
      "text/plain": [
       "<Figure size 640x480 with 1 Axes>"
      ]
     },
     "metadata": {},
     "output_type": "display_data"
    }
   ],
   "source": [
    "sns.boxplot(data=df, y='income', x='cluster_id')"
   ]
  },
  {
   "cell_type": "markdown",
   "metadata": {},
   "source": [
    "#### Are there any differences attributes for different clusters?\n",
    "Clusters with id 1 and 3 contain countries with lower income. High income countries are mostly placed in small cluster with cluster_id 0, other countries with relative high income are in group 2."
   ]
  },
  {
   "cell_type": "markdown",
   "metadata": {},
   "source": [
    "#### Continue with description of detected clusters"
   ]
  },
  {
   "cell_type": "markdown",
   "metadata": {},
   "source": [
    "## Task 1"
   ]
  },
  {
   "cell_type": "markdown",
   "metadata": {},
   "source": [
    "#### Visualisation of child_mort attribute for each cluster\n",
    "____________________________\n",
    "- The number of death of children under 5 years of age per 1000 live births was highest in cluster with id 1\n",
    "- In the cluster with id 0 and 1, was child_mort almost zero\n",
    "- The country with the highest number of child_mort is in the cluster with id 1"
   ]
  },
  {
   "cell_type": "code",
   "execution_count": 254,
   "metadata": {},
   "outputs": [
    {
     "data": {
      "text/plain": [
       "<AxesSubplot: xlabel='cluster_id', ylabel='child_mort'>"
      ]
     },
     "execution_count": 254,
     "metadata": {},
     "output_type": "execute_result"
    },
    {
     "data": {
      "image/png": "[encoded data removed]",
      "text/plain": [
       "<Figure size 640x480 with 1 Axes>"
      ]
     },
     "metadata": {},
     "output_type": "display_data"
    }
   ],
   "source": [
    "sns.boxplot(data=df, y='child_mort', x='cluster_id')"
   ]
  },
  {
   "cell_type": "markdown",
   "metadata": {},
   "source": [
    "#### Visualisation of imports and exports\n",
    "____________________________\n",
    "- It seems that clusters with high number of exports has high numbers of imports too\n",
    "- The cluster with the id 0 has the highest number of exports and imports\n",
    "- The cluster with the if 2 has lower number of imports than 3, but higher number of exports than 3"
   ]
  },
  {
   "cell_type": "code",
   "execution_count": 279,
   "metadata": {},
   "outputs": [
    {
     "data": {
      "text/plain": [
       "<AxesSubplot: xlabel='cluster_id', ylabel='imports'>"
      ]
     },
     "execution_count": 279,
     "metadata": {},
     "output_type": "execute_result"
    },
    {
     "data": {
      "image/png": "[encoded data removed]",
      "text/plain": [
       "<Figure size 640x480 with 1 Axes>"
      ]
     },
     "metadata": {},
     "output_type": "display_data"
    }
   ],
   "source": [
    "sns.boxplot(data=df, y='imports', x='cluster_id')"
   ]
  },
  {
   "cell_type": "code",
   "execution_count": 281,
   "metadata": {},
   "outputs": [
    {
     "data": {
      "text/plain": [
       "<AxesSubplot: xlabel='cluster_id', ylabel='exports'>"
      ]
     },
     "execution_count": 281,
     "metadata": {},
     "output_type": "execute_result"
    },
    {
     "data": {
      "image/png": "[encoded data removed]",
      "text/plain": [
       "<Figure size 640x480 with 1 Axes>"
      ]
     },
     "metadata": {},
     "output_type": "display_data"
    }
   ],
   "source": [
    "sns.boxplot(data=df, y='exports', x='cluster_id')"
   ]
  },
  {
   "cell_type": "markdown",
   "metadata": {},
   "source": [
    "#### Visualisation of inflation\n",
    "____________________________\n",
    "- It seems that clusters with id 0 and 2 have the lowest inflation\n",
    "- Highest inflation is in the cluster with id 1 and 3"
   ]
  },
  {
   "cell_type": "code",
   "execution_count": 363,
   "metadata": {},
   "outputs": [
    {
     "data": {
      "text/plain": [
       "<AxesSubplot: xlabel='cluster_id', ylabel='inflation'>"
      ]
     },
     "execution_count": 363,
     "metadata": {},
     "output_type": "execute_result"
    },
    {
     "data": {
      "image/png": "[encoded data removed]",
      "text/plain": [
       "<Figure size 640x480 with 1 Axes>"
      ]
     },
     "metadata": {},
     "output_type": "display_data"
    }
   ],
   "source": [
    "sns.boxplot(data=df, y='inflation', x='cluster_id')"
   ]
  },
  {
   "cell_type": "markdown",
   "metadata": {},
   "source": [
    "### Final result\n",
    "- It seems that cluster with id 0 contains the most developed countries\n",
    "- Countries in cluster 1 have the highest mortality and lowest income in general, there will be lower standard of living maybe\n",
    "- Clusters are mainly made by standard of life, at least in my opinion\n",
    "_____________________\n"
   ]
  },
  {
   "cell_type": "markdown",
   "metadata": {},
   "source": [
    "## Task 2, 3, 4"
   ]
  },
  {
   "cell_type": "markdown",
   "metadata": {},
   "source": [
    "#### Count of countires for each cluster"
   ]
  },
  {
   "cell_type": "code",
   "execution_count": 362,
   "metadata": {},
   "outputs": [
    {
     "data": {
      "text/plain": [
       "2    64\n",
       "1    55\n",
       "0    48\n",
       "dtype: int64"
      ]
     },
     "execution_count": 362,
     "metadata": {},
     "output_type": "execute_result"
    }
   ],
   "source": [
    "pd.Series(clustering.labels_).value_counts()"
   ]
  },
  {
   "cell_type": "markdown",
   "metadata": {},
   "source": [
    "#### Visualisation of income\n",
    "____________________________\n",
    "- It seems that cluster with id 0 has strongly lowest income rate"
   ]
  },
  {
   "cell_type": "code",
   "execution_count": 368,
   "metadata": {},
   "outputs": [
    {
     "data": {
      "text/plain": [
       "<AxesSubplot: xlabel='cluster_id', ylabel='income'>"
      ]
     },
     "execution_count": 368,
     "metadata": {},
     "output_type": "execute_result"
    },
    {
     "data": {
      "image/png": "[encoded data removed]",
      "text/plain": [
       "<Figure size 640x480 with 1 Axes>"
      ]
     },
     "metadata": {},
     "output_type": "display_data"
    }
   ],
   "source": [
    "sns.boxplot(data=df, y='income', x='cluster_id')"
   ]
  },
  {
   "cell_type": "markdown",
   "metadata": {},
   "source": [
    "#### Visualisation of child_mort\n",
    "____________________________\n",
    "- It seems that cluster with id 0 has the highest child_mort, the lowest one is cluster with id 1 and in the middle is 2"
   ]
  },
  {
   "cell_type": "code",
   "execution_count": 370,
   "metadata": {},
   "outputs": [
    {
     "data": {
      "text/plain": [
       "<AxesSubplot: xlabel='cluster_id', ylabel='child_mort'>"
      ]
     },
     "execution_count": 370,
     "metadata": {},
     "output_type": "execute_result"
    },
    {
     "data": {
      "image/png": "[encoded data removed]",
      "text/plain": [
       "<Figure size 640x480 with 1 Axes>"
      ]
     },
     "metadata": {},
     "output_type": "display_data"
    }
   ],
   "source": [
    "sns.boxplot(data=df, y='child_mort', x='cluster_id')"
   ]
  },
  {
   "cell_type": "markdown",
   "metadata": {},
   "source": [
    "#### Visualisation of inflation\n",
    "____________________________\n",
    "- Cluster 1 has the lowest inflation\n",
    "- Cluster 0 and 2 are on the same level"
   ]
  },
  {
   "cell_type": "code",
   "execution_count": 371,
   "metadata": {},
   "outputs": [
    {
     "data": {
      "text/plain": [
       "<AxesSubplot: xlabel='cluster_id', ylabel='inflation'>"
      ]
     },
     "execution_count": 371,
     "metadata": {},
     "output_type": "execute_result"
    },
    {
     "data": {
      "image/png": "[encoded data removed]",
      "text/plain": [
       "<Figure size 640x480 with 1 Axes>"
      ]
     },
     "metadata": {},
     "output_type": "display_data"
    }
   ],
   "source": [
    "sns.boxplot(data=df, y='inflation', x='cluster_id')\n"
   ]
  },
  {
   "cell_type": "markdown",
   "metadata": {},
   "source": [
    "### Final result\n",
    "- It seems that cluster with id 1 contains the most developed countries\n",
    "- In the cluster with id 0 and 2 is similar inflation, but really different child_mort and income\n",
    "_____________________\n"
   ]
  },
  {
   "cell_type": "markdown",
   "metadata": {
    "id": "OWYkNVogep3k"
   },
   "source": [
    "## DBSCAN + distance analysis\n",
    "- https://scikit-learn.org/stable/modules/generated/sklearn.cluster.DBSCAN.html\n",
    "- https://www.kdnuggets.com/2020/04/dbscan-clustering-algorithm-machine-learning.html"
   ]
  },
  {
   "cell_type": "code",
   "execution_count": 213,
   "metadata": {
    "colab": {
     "base_uri": "https://localhost:8080/",
     "height": 348
    },
    "id": "07ZgpmO8epPt",
    "outputId": "88e019af-8d5c-4bd4-badd-edc12286cf10"
   },
   "outputs": [
    {
     "data": {
      "text/html": [
       "<style>#sk-container-id-18 {color: black;background-color: white;}#sk-container-id-18 pre{padding: 0;}#sk-container-id-18 div.sk-toggleable {background-color: white;}#sk-container-id-18 label.sk-toggleable__label {cursor: pointer;display: block;width: 100%;margin-bottom: 0;padding: 0.3em;box-sizing: border-box;text-align: center;}#sk-container-id-18 label.sk-toggleable__label-arrow:before {content: \"▸\";float: left;margin-right: 0.25em;color: #696969;}#sk-container-id-18 label.sk-toggleable__label-arrow:hover:before {color: black;}#sk-container-id-18 div.sk-estimator:hover label.sk-toggleable__label-arrow:before {color: black;}#sk-container-id-18 div.sk-toggleable__content {max-height: 0;max-width: 0;overflow: hidden;text-align: left;background-color: #f0f8ff;}#sk-container-id-18 div.sk-toggleable__content pre {margin: 0.2em;color: black;border-radius: 0.25em;background-color: #f0f8ff;}#sk-container-id-18 input.sk-toggleable__control:checked~div.sk-toggleable__content {max-height: 200px;max-width: 100%;overflow: auto;}#sk-container-id-18 input.sk-toggleable__control:checked~label.sk-toggleable__label-arrow:before {content: \"▾\";}#sk-container-id-18 div.sk-estimator input.sk-toggleable__control:checked~label.sk-toggleable__label {background-color: #d4ebff;}#sk-container-id-18 div.sk-label input.sk-toggleable__control:checked~label.sk-toggleable__label {background-color: #d4ebff;}#sk-container-id-18 input.sk-hidden--visually {border: 0;clip: rect(1px 1px 1px 1px);clip: rect(1px, 1px, 1px, 1px);height: 1px;margin: -1px;overflow: hidden;padding: 0;position: absolute;width: 1px;}#sk-container-id-18 div.sk-estimator {font-family: monospace;background-color: #f0f8ff;border: 1px dotted black;border-radius: 0.25em;box-sizing: border-box;margin-bottom: 0.5em;}#sk-container-id-18 div.sk-estimator:hover {background-color: #d4ebff;}#sk-container-id-18 div.sk-parallel-item::after {content: \"\";width: 100%;border-bottom: 1px solid gray;flex-grow: 1;}#sk-container-id-18 div.sk-label:hover label.sk-toggleable__label {background-color: #d4ebff;}#sk-container-id-18 div.sk-serial::before {content: \"\";position: absolute;border-left: 1px solid gray;box-sizing: border-box;top: 0;bottom: 0;left: 50%;z-index: 0;}#sk-container-id-18 div.sk-serial {display: flex;flex-direction: column;align-items: center;background-color: white;padding-right: 0.2em;padding-left: 0.2em;position: relative;}#sk-container-id-18 div.sk-item {position: relative;z-index: 1;}#sk-container-id-18 div.sk-parallel {display: flex;align-items: stretch;justify-content: center;background-color: white;position: relative;}#sk-container-id-18 div.sk-item::before, #sk-container-id-18 div.sk-parallel-item::before {content: \"\";position: absolute;border-left: 1px solid gray;box-sizing: border-box;top: 0;bottom: 0;left: 50%;z-index: -1;}#sk-container-id-18 div.sk-parallel-item {display: flex;flex-direction: column;z-index: 1;position: relative;background-color: white;}#sk-container-id-18 div.sk-parallel-item:first-child::after {align-self: flex-end;width: 50%;}#sk-container-id-18 div.sk-parallel-item:last-child::after {align-self: flex-start;width: 50%;}#sk-container-id-18 div.sk-parallel-item:only-child::after {width: 0;}#sk-container-id-18 div.sk-dashed-wrapped {border: 1px dashed gray;margin: 0 0.4em 0.5em 0.4em;box-sizing: border-box;padding-bottom: 0.4em;background-color: white;}#sk-container-id-18 div.sk-label label {font-family: monospace;font-weight: bold;display: inline-block;line-height: 1.2em;}#sk-container-id-18 div.sk-label-container {text-align: center;}#sk-container-id-18 div.sk-container {/* jupyter's `normalize.less` sets `[hidden] { display: none; }` but bootstrap.min.css set `[hidden] { display: none !important; }` so we also need the `!important` here to be able to override the default hidden behavior on the sphinx rendered scikit-learn.org. See: https://github.com/scikit-learn/scikit-learn/issues/21755 */display: inline-block !important;position: relative;}#sk-container-id-18 div.sk-text-repr-fallback {display: none;}</style><div id=\"sk-container-id-18\" class=\"sk-top-container\"><div class=\"sk-text-repr-fallback\"><pre>DBSCAN()</pre><b>In a Jupyter environment, please rerun this cell to show the HTML representation or trust the notebook. <br />On GitHub, the HTML representation is unable to render, please try loading this page with nbviewer.org.</b></div><div class=\"sk-container\" hidden><div class=\"sk-item\"><div class=\"sk-estimator sk-toggleable\"><input class=\"sk-toggleable__control sk-hidden--visually\" id=\"sk-estimator-id-18\" type=\"checkbox\" checked><label for=\"sk-estimator-id-18\" class=\"sk-toggleable__label sk-toggleable__label-arrow\">DBSCAN</label><div class=\"sk-toggleable__content\"><pre>DBSCAN()</pre></div></div></div></div></div>"
      ],
      "text/plain": [
       "DBSCAN()"
      ]
     },
     "execution_count": 213,
     "metadata": {},
     "output_type": "execute_result"
    }
   ],
   "source": [
    "clustering = sklearn.cluster.DBSCAN()\n",
    "clustering.fit(X_min_max_scaled)"
   ]
  },
  {
   "cell_type": "code",
   "execution_count": 214,
   "metadata": {
    "colab": {
     "base_uri": "https://localhost:8080/",
     "height": 237
    },
    "id": "W1ug3oUcd3Pv",
    "outputId": "630f9ffc-3211-42fe-8938-b4f205979350"
   },
   "outputs": [
    {
     "data": {
      "text/plain": [
       " 0    161\n",
       "-1      6\n",
       "dtype: int64"
      ]
     },
     "execution_count": 214,
     "metadata": {},
     "output_type": "execute_result"
    }
   ],
   "source": [
    "pd.Series(clustering.labels_).value_counts()"
   ]
  },
  {
   "cell_type": "markdown",
   "metadata": {},
   "source": [
    "What does the number -1 means?\n",
    "#### Find better parameters *eps* and *min_pts* and visualize you result"
   ]
  },
  {
   "cell_type": "code",
   "execution_count": 215,
   "metadata": {
    "colab": {
     "base_uri": "https://localhost:8080/",
     "height": 109
    },
    "id": "0Q2O8L5ifB0N",
    "outputId": "d359a0a7-0636-4ff5-a58e-af27161fba11"
   },
   "outputs": [
    {
     "data": {
      "text/plain": [
       " 1    75\n",
       "-1    54\n",
       " 0    21\n",
       " 2    17\n",
       "dtype: int64"
      ]
     },
     "execution_count": 215,
     "metadata": {},
     "output_type": "execute_result"
    }
   ],
   "source": [
    "clustering = sklearn.cluster.DBSCAN(eps=0.2, min_samples=5).fit(X_min_max_scaled)\n",
    "pd.Series(clustering.labels_).value_counts()"
   ]
  },
  {
   "cell_type": "markdown",
   "metadata": {},
   "source": [
    "#### Lets get insight into distances in our dataset and be able to configure our parameters for DBSCAN"
   ]
  },
  {
   "cell_type": "code",
   "execution_count": 216,
   "metadata": {
    "colab": {
     "base_uri": "https://localhost:8080/",
     "height": 256
    },
    "id": "OQSSZzO6f4aA",
    "outputId": "3db254b5-efab-4bd0-9f41-59bcc5491f0d"
   },
   "outputs": [
    {
     "data": {
      "text/plain": [
       "array([[0.        , 0.85938446, 0.74311097, ..., 0.8546914 , 0.40426303,\n",
       "        0.22412638],\n",
       "       [0.85938446, 0.        , 0.2957055 , ..., 0.31085967, 0.58498839,\n",
       "        0.84241764],\n",
       "       [0.74311097, 0.2957055 , 0.        , ..., 0.41013299, 0.38283615,\n",
       "        0.69477761],\n",
       "       ...,\n",
       "       [0.8546914 , 0.31085967, 0.41013299, ..., 0.        , 0.59790897,\n",
       "        0.81790284],\n",
       "       [0.40426303, 0.58498839, 0.38283615, ..., 0.59790897, 0.        ,\n",
       "        0.36781892],\n",
       "       [0.22412638, 0.84241764, 0.69477761, ..., 0.81790284, 0.36781892,\n",
       "        0.        ]])"
      ]
     },
     "execution_count": 216,
     "metadata": {},
     "output_type": "execute_result"
    }
   ],
   "source": [
    "distance_matrix = scipy.spatial.distance_matrix(X_min_max_scaled, X_min_max_scaled)\n",
    "distance_matrix"
   ]
  },
  {
   "cell_type": "code",
   "execution_count": 217,
   "metadata": {},
   "outputs": [
    {
     "data": {
      "text/plain": [
       "<AxesSubplot: ylabel='Count'>"
      ]
     },
     "execution_count": 217,
     "metadata": {},
     "output_type": "execute_result"
    },
    {
     "data": {
      "image/png": "[encoded data removed]",
      "text/plain": [
       "<Figure size 640x480 with 1 Axes>"
      ]
     },
     "metadata": {},
     "output_type": "display_data"
    }
   ],
   "source": [
    "sns.histplot(distance_matrix.flatten())"
   ]
  },
  {
   "cell_type": "code",
   "execution_count": 218,
   "metadata": {
    "colab": {
     "base_uri": "https://localhost:8080/",
     "height": 256
    },
    "id": "2xS100K_gy8T",
    "outputId": "2175b76a-35c9-46d3-a308-267844496f65"
   },
   "outputs": [
    {
     "data": {
      "text/plain": [
       "array([[0.        , 0.14842545, 0.15137223, ..., 1.535181  , 1.73891415,\n",
       "        1.83776206],\n",
       "       [0.        , 0.1097279 , 0.11452457, ..., 1.31412931, 1.3148987 ,\n",
       "        1.48628607],\n",
       "       [0.        , 0.15065842, 0.1712165 , ..., 1.28222406, 1.35681504,\n",
       "        1.52301869],\n",
       "       ...,\n",
       "       [0.        , 0.18710912, 0.21453506, ..., 1.26599787, 1.27534801,\n",
       "        1.3823712 ],\n",
       "       [0.        , 0.17442501, 0.17785416, ..., 1.32168729, 1.53925858,\n",
       "        1.67687246],\n",
       "       [0.        , 0.10082188, 0.15766287, ..., 1.47501506, 1.68334477,\n",
       "        1.79717218]])"
      ]
     },
     "execution_count": 218,
     "metadata": {},
     "output_type": "execute_result"
    }
   ],
   "source": [
    "distance_matrix = scipy.spatial.distance_matrix(X_min_max_scaled, X_min_max_scaled)\n",
    "distance_matrix.sort(axis=1)\n",
    "distance_matrix"
   ]
  },
  {
   "cell_type": "code",
   "execution_count": 219,
   "metadata": {
    "colab": {
     "base_uri": "https://localhost:8080/",
     "height": 283
    },
    "id": "Px6BLtDXhhrN",
    "outputId": "19671df0-7548-4f99-9bbe-90deca6f86f5"
   },
   "outputs": [
    {
     "data": {
      "text/plain": [
       "<AxesSubplot: ylabel='Count'>"
      ]
     },
     "execution_count": 219,
     "metadata": {},
     "output_type": "execute_result"
    },
    {
     "data": {
      "image/png": "[encoded data removed]",
      "text/plain": [
       "<Figure size 640x480 with 1 Axes>"
      ]
     },
     "metadata": {},
     "output_type": "display_data"
    }
   ],
   "source": [
    "sns.histplot(distance_matrix[:, 1])"
   ]
  },
  {
   "cell_type": "code",
   "execution_count": 220,
   "metadata": {
    "colab": {
     "base_uri": "https://localhost:8080/",
     "height": 283
    },
    "id": "WD4_2WCdhx72",
    "outputId": "efd11699-5f5b-4f7b-f933-884d0d02edc1"
   },
   "outputs": [
    {
     "data": {
      "text/plain": [
       "<AxesSubplot: ylabel='Count'>"
      ]
     },
     "execution_count": 220,
     "metadata": {},
     "output_type": "execute_result"
    },
    {
     "data": {
      "image/png": "[encoded data removed]",
      "text/plain": [
       "<Figure size 640x480 with 1 Axes>"
      ]
     },
     "metadata": {},
     "output_type": "display_data"
    }
   ],
   "source": [
    "sns.histplot(distance_matrix[:, 10], bins=50)"
   ]
  },
  {
   "cell_type": "markdown",
   "metadata": {},
   "source": [
    "#### What can we notice in previous visualizations?"
   ]
  },
  {
   "cell_type": "code",
   "execution_count": 221,
   "metadata": {},
   "outputs": [
    {
     "data": {
      "text/plain": [
       " 1    102\n",
       "-1     38\n",
       " 0     27\n",
       "dtype: int64"
      ]
     },
     "execution_count": 221,
     "metadata": {},
     "output_type": "execute_result"
    }
   ],
   "source": [
    "clustering = sklearn.cluster.DBSCAN(eps=0.25, min_samples=10).fit(X_min_max_scaled)\n",
    "pd.Series(clustering.labels_).value_counts()"
   ]
  },
  {
   "cell_type": "markdown",
   "metadata": {},
   "source": [
    "#### Description of clusters (and probably noise points too)"
   ]
  },
  {
   "cell_type": "code",
   "execution_count": 222,
   "metadata": {},
   "outputs": [],
   "source": [
    "df['cluster_id'] = clustering.labels_"
   ]
  },
  {
   "cell_type": "code",
   "execution_count": 223,
   "metadata": {},
   "outputs": [
    {
     "data": {
      "text/plain": [
       "array(['Angola', 'Botswana', 'Brunei', 'Burundi',\n",
       "       'Central African Republic', 'Chad', 'Congo, Rep.',\n",
       "       'Equatorial Guinea', 'Gabon', 'Haiti', 'Iraq', 'Ireland',\n",
       "       'Kiribati', 'Kuwait', 'Lesotho', 'Liberia', 'Luxembourg', 'Malta',\n",
       "       'Micronesia, Fed. Sts.', 'Mongolia', 'Niger', 'Nigeria', 'Norway',\n",
       "       'Oman', 'Pakistan', 'Qatar', 'Rwanda', 'Saudi Arabia',\n",
       "       'Seychelles', 'Sierra Leone', 'Singapore', 'Solomon Islands',\n",
       "       'South Africa', 'Timor-Leste', 'Turkmenistan',\n",
       "       'United Arab Emirates', 'United States', 'Venezuela'], dtype=object)"
      ]
     },
     "execution_count": 223,
     "metadata": {},
     "output_type": "execute_result"
    }
   ],
   "source": [
    "df[df.cluster_id == -1].country.values"
   ]
  },
  {
   "cell_type": "code",
   "execution_count": 224,
   "metadata": {},
   "outputs": [
    {
     "data": {
      "text/plain": [
       "array(['Afghanistan', 'Benin', 'Burkina Faso', 'Cameroon', 'Comoros',\n",
       "       'Congo, Dem. Rep.', \"Cote d'Ivoire\", 'Eritrea', 'Gambia', 'Ghana',\n",
       "       'Guinea', 'Guinea-Bissau', 'Kenya', 'Lao', 'Madagascar', 'Malawi',\n",
       "       'Mali', 'Mauritania', 'Mozambique', 'Senegal', 'Sudan',\n",
       "       'Tajikistan', 'Tanzania', 'Togo', 'Uganda', 'Yemen', 'Zambia'],\n",
       "      dtype=object)"
      ]
     },
     "execution_count": 224,
     "metadata": {},
     "output_type": "execute_result"
    }
   ],
   "source": [
    "df[df.cluster_id == 0].country.values"
   ]
  },
  {
   "cell_type": "code",
   "execution_count": 225,
   "metadata": {},
   "outputs": [
    {
     "data": {
      "text/plain": [
       "array(['Albania', 'Algeria', 'Antigua and Barbuda', 'Argentina',\n",
       "       'Armenia', 'Australia', 'Austria', 'Azerbaijan', 'Bahamas',\n",
       "       'Bahrain', 'Bangladesh', 'Barbados', 'Belarus', 'Belgium',\n",
       "       'Belize', 'Bhutan', 'Bolivia', 'Bosnia and Herzegovina', 'Brazil',\n",
       "       'Bulgaria', 'Cambodia', 'Canada', 'Cape Verde', 'Chile', 'China',\n",
       "       'Colombia', 'Costa Rica', 'Croatia', 'Cyprus', 'Czech Republic',\n",
       "       'Denmark', 'Dominican Republic', 'Ecuador', 'Egypt', 'El Salvador',\n",
       "       'Estonia', 'Fiji', 'Finland', 'France', 'Georgia', 'Germany',\n",
       "       'Greece', 'Grenada', 'Guatemala', 'Guyana', 'Hungary', 'Iceland',\n",
       "       'India', 'Indonesia', 'Iran', 'Israel', 'Italy', 'Jamaica',\n",
       "       'Japan', 'Jordan', 'Kazakhstan', 'Kyrgyz Republic', 'Latvia',\n",
       "       'Lebanon', 'Libya', 'Lithuania', 'Macedonia, FYR', 'Malaysia',\n",
       "       'Maldives', 'Mauritius', 'Moldova', 'Montenegro', 'Morocco',\n",
       "       'Myanmar', 'Namibia', 'Nepal', 'Netherlands', 'New Zealand',\n",
       "       'Panama', 'Paraguay', 'Peru', 'Philippines', 'Poland', 'Portugal',\n",
       "       'Romania', 'Russia', 'Samoa', 'Serbia', 'Slovak Republic',\n",
       "       'Slovenia', 'South Korea', 'Spain', 'Sri Lanka',\n",
       "       'St. Vincent and the Grenadines', 'Suriname', 'Sweden',\n",
       "       'Switzerland', 'Thailand', 'Tonga', 'Tunisia', 'Turkey', 'Ukraine',\n",
       "       'United Kingdom', 'Uruguay', 'Uzbekistan', 'Vanuatu', 'Vietnam'],\n",
       "      dtype=object)"
      ]
     },
     "execution_count": 225,
     "metadata": {},
     "output_type": "execute_result"
    }
   ],
   "source": [
    "df[df.cluster_id == 1].country.values"
   ]
  },
  {
   "cell_type": "code",
   "execution_count": 226,
   "metadata": {},
   "outputs": [
    {
     "data": {
      "text/plain": [
       "<AxesSubplot: xlabel='cluster_id', ylabel='income'>"
      ]
     },
     "execution_count": 226,
     "metadata": {},
     "output_type": "execute_result"
    },
    {
     "data": {
      "image/png": "[encoded data removed]",
      "text/plain": [
       "<Figure size 640x480 with 1 Axes>"
      ]
     },
     "metadata": {},
     "output_type": "display_data"
    }
   ],
   "source": [
    "sns.boxplot(data=df, y='income', x='cluster_id')"
   ]
  },
  {
   "cell_type": "code",
   "execution_count": null,
   "metadata": {},
   "outputs": [],
   "source": []
  },
  {
   "cell_type": "markdown",
   "metadata": {},
   "source": [
    "### How would you treat non-numerical attributes?"
   ]
  },
  {
   "cell_type": "markdown",
   "metadata": {},
   "source": [
    "### For more info about Sklearn clustering, take a look into documentation https://scikit-learn.org/stable/modules/clustering.html#clustering"
   ]
  },
  {
   "cell_type": "markdown",
   "metadata": {},
   "source": [
    "# Task (2p)\n",
    "\n",
    "Continue with clustering analysis:\n",
    "1. Let's add more information for already detected clusters (code above). Choose one of already used method (k-means or DBSCAN) and add more description for clusters.\n",
    "\n",
    "MinMax scaling is not the only best possibility for scaling of numerical attributes.\n",
    "\n",
    "2. Take a look into documentation (https://scikit-learn.org/stable/modules/classes.html?highlight=preprocessing#module-sklearn.preprocessing) and choose other method for scaling your features.\n",
    "\n",
    "3. Apply clustering method of your choice (https://scikit-learn.org/stable/modules/clustering.html) for differently scaled data.\n",
    "\n",
    "4. Describe detected clusters.\n",
    "\n",
    "As a bonus, it may be interesting to combine differently scaled features - e.g. feature1 scaled using MinMax, feature2 scaled using PowerTransform etc. And used this dataset for clustering."
   ]
  }
 ],
 "metadata": {
  "colab": {
   "collapsed_sections": [],
   "name": "cv4.ipynb",
   "provenance": []
  },
  "kernelspec": {
   "display_name": "Python 3.10.7 64-bit",
   "language": "python",
   "name": "python3"
  },
  "language_info": {
   "codemirror_mode": {
    "name": "ipython",
    "version": 3
   },
   "file_extension": ".py",
   "mimetype": "text/x-python",
   "name": "python",
   "nbconvert_exporter": "python",
   "pygments_lexer": "ipython3",
   "version": "3.10.7"
  },
  "vscode": {
   "interpreter": {
    "hash": "369f2c481f4da34e4445cda3fffd2e751bd1c4d706f27375911949ba6bb62e1c"
   }
  }
 },
 "nbformat": 4,
 "nbformat_minor": 4
}
